{
 "cells": [
  {
   "cell_type": "code",
   "execution_count": 1,
   "id": "c428eaa0",
   "metadata": {},
   "outputs": [
    {
     "data": {
      "text/plain": [
       "True"
      ]
     },
     "execution_count": 1,
     "metadata": {},
     "output_type": "execute_result"
    }
   ],
   "source": [
    "import sys\n",
    "import os\n",
    "from dotenv import load_dotenv\n",
    "import pandas as pd\n",
    "\n",
    "# プロジェクトルートのパスを追加（quantechiaがあるディレクトリ）\n",
    "sys.path.append(os.path.abspath(os.path.join(os.getcwd(), \"..\")))\n",
    "load_dotenv()"
   ]
  },
  {
   "cell_type": "code",
   "execution_count": 2,
   "id": "3d72cc37",
   "metadata": {},
   "outputs": [
    {
     "data": {
      "text/plain": [
       "<module 'quantechia.analysis' from '/app/quantechia/analysis.py'>"
      ]
     },
     "execution_count": 2,
     "metadata": {},
     "output_type": "execute_result"
    }
   ],
   "source": [
    "import pandas as pd\n",
    "import numpy as np\n",
    "from quantechia.strategy import basestrategy, trend \n",
    "from quantechia import analysis\n",
    "from quantechia.data.data_fetcher import FinancialDataFetcher\n",
    "\n",
    "from quantechia import utils\n",
    "import importlib\n",
    "importlib.reload(utils)\n",
    "importlib.reload(basestrategy)\n",
    "importlib.reload(analysis)"
   ]
  },
  {
   "cell_type": "code",
   "execution_count": 3,
   "id": "10b6d1f3",
   "metadata": {},
   "outputs": [],
   "source": [
    "# 株価データを取得\n",
    "fetcher = FinancialDataFetcher()\n",
    "tickers = ['AAPL', 'MSFT', 'GOOG']\n",
    "start_date = '2023-01-01'\n",
    "end_date = '2023-03-31'\n",
    "historical_data = fetcher.get_historical_data(\"data_reader\", name=tickers, data_source='stooq')\n",
    "price_data = historical_data['Close']\n",
    "\n"
   ]
  },
  {
   "cell_type": "code",
   "execution_count": 4,
   "id": "48f6d602",
   "metadata": {},
   "outputs": [],
   "source": [
    "equal_weight_strategy = basestrategy.EqualWeightStrategy(price_data, strategy_name=\"Equal Weight\")\n",
    "trend_following_strategy = trend.TrendFollowingStrategy(price_data, window=20, strategy_name=\"Trend Following\")"
   ]
  },
  {
   "cell_type": "code",
   "execution_count": 5,
   "id": "9beca0e5",
   "metadata": {},
   "outputs": [
    {
     "data": {
      "text/html": [
       "<div>\n",
       "<style scoped>\n",
       "    .dataframe tbody tr th:only-of-type {\n",
       "        vertical-align: middle;\n",
       "    }\n",
       "\n",
       "    .dataframe tbody tr th {\n",
       "        vertical-align: top;\n",
       "    }\n",
       "\n",
       "    .dataframe thead th {\n",
       "        text-align: right;\n",
       "    }\n",
       "</style>\n",
       "<table border=\"1\" class=\"dataframe\">\n",
       "  <thead>\n",
       "    <tr style=\"text-align: right;\">\n",
       "      <th>Symbols</th>\n",
       "      <th>AAPL</th>\n",
       "      <th>MSFT</th>\n",
       "      <th>GOOG</th>\n",
       "    </tr>\n",
       "    <tr>\n",
       "      <th>Date</th>\n",
       "      <th></th>\n",
       "      <th></th>\n",
       "      <th></th>\n",
       "    </tr>\n",
       "  </thead>\n",
       "  <tbody>\n",
       "    <tr>\n",
       "      <th>2020-05-20</th>\n",
       "      <td>0.333333</td>\n",
       "      <td>0.333333</td>\n",
       "      <td>0.333333</td>\n",
       "    </tr>\n",
       "    <tr>\n",
       "      <th>2020-05-21</th>\n",
       "      <td>0.333333</td>\n",
       "      <td>0.333333</td>\n",
       "      <td>0.333333</td>\n",
       "    </tr>\n",
       "    <tr>\n",
       "      <th>2020-05-22</th>\n",
       "      <td>0.333333</td>\n",
       "      <td>0.333333</td>\n",
       "      <td>0.333333</td>\n",
       "    </tr>\n",
       "    <tr>\n",
       "      <th>2020-05-26</th>\n",
       "      <td>0.333333</td>\n",
       "      <td>0.333333</td>\n",
       "      <td>0.333333</td>\n",
       "    </tr>\n",
       "    <tr>\n",
       "      <th>2020-05-27</th>\n",
       "      <td>0.333333</td>\n",
       "      <td>0.333333</td>\n",
       "      <td>0.333333</td>\n",
       "    </tr>\n",
       "    <tr>\n",
       "      <th>...</th>\n",
       "      <td>...</td>\n",
       "      <td>...</td>\n",
       "      <td>...</td>\n",
       "    </tr>\n",
       "    <tr>\n",
       "      <th>2025-05-12</th>\n",
       "      <td>0.333333</td>\n",
       "      <td>0.333333</td>\n",
       "      <td>0.333333</td>\n",
       "    </tr>\n",
       "    <tr>\n",
       "      <th>2025-05-13</th>\n",
       "      <td>0.333333</td>\n",
       "      <td>0.333333</td>\n",
       "      <td>0.333333</td>\n",
       "    </tr>\n",
       "    <tr>\n",
       "      <th>2025-05-14</th>\n",
       "      <td>0.333333</td>\n",
       "      <td>0.333333</td>\n",
       "      <td>0.333333</td>\n",
       "    </tr>\n",
       "    <tr>\n",
       "      <th>2025-05-15</th>\n",
       "      <td>0.333333</td>\n",
       "      <td>0.333333</td>\n",
       "      <td>0.333333</td>\n",
       "    </tr>\n",
       "    <tr>\n",
       "      <th>2025-05-16</th>\n",
       "      <td>0.333333</td>\n",
       "      <td>0.333333</td>\n",
       "      <td>0.333333</td>\n",
       "    </tr>\n",
       "  </tbody>\n",
       "</table>\n",
       "<p>1255 rows × 3 columns</p>\n",
       "</div>"
      ],
      "text/plain": [
       "Symbols         AAPL      MSFT      GOOG\n",
       "Date                                    \n",
       "2020-05-20  0.333333  0.333333  0.333333\n",
       "2020-05-21  0.333333  0.333333  0.333333\n",
       "2020-05-22  0.333333  0.333333  0.333333\n",
       "2020-05-26  0.333333  0.333333  0.333333\n",
       "2020-05-27  0.333333  0.333333  0.333333\n",
       "...              ...       ...       ...\n",
       "2025-05-12  0.333333  0.333333  0.333333\n",
       "2025-05-13  0.333333  0.333333  0.333333\n",
       "2025-05-14  0.333333  0.333333  0.333333\n",
       "2025-05-15  0.333333  0.333333  0.333333\n",
       "2025-05-16  0.333333  0.333333  0.333333\n",
       "\n",
       "[1255 rows x 3 columns]"
      ]
     },
     "execution_count": 5,
     "metadata": {},
     "output_type": "execute_result"
    }
   ],
   "source": [
    "equal_weight_strategy.calculate_weight()"
   ]
  },
  {
   "cell_type": "code",
   "execution_count": 6,
   "id": "689c69cc",
   "metadata": {},
   "outputs": [
    {
     "data": {
      "text/plain": [
       "Date\n",
       "2020-05-21   -0.007430\n",
       "2020-05-22    0.004109\n",
       "2020-05-26   -0.004244\n",
       "2020-05-27    0.002097\n",
       "2020-05-28   -0.000834\n",
       "                ...   \n",
       "2025-05-12    0.039813\n",
       "2025-05-13    0.006031\n",
       "2025-05-14    0.014146\n",
       "2025-05-15   -0.004059\n",
       "2025-05-16    0.004630\n",
       "Name: Equal Weight, Length: 1254, dtype: float64"
      ]
     },
     "execution_count": 6,
     "metadata": {},
     "output_type": "execute_result"
    }
   ],
   "source": [
    "equal_weight_strategy.calculate_returns()"
   ]
  },
  {
   "cell_type": "code",
   "execution_count": 7,
   "id": "73a5a203",
   "metadata": {},
   "outputs": [
    {
     "data": {
      "text/plain": [
       "{'sharpe_ratio': np.float64(0.8985752109707568),\n",
       " 'max_drawdown': np.float64(-0.34982692749933586),\n",
       " 'winning_rate': 0.5470494417862839,\n",
       " 'turnover': np.float64(0.0)}"
      ]
     },
     "execution_count": 7,
     "metadata": {},
     "output_type": "execute_result"
    }
   ],
   "source": [
    "equal_weight_strategy.evaluate(report_path=\"equal_weight_strategy_report.html\")"
   ]
  },
  {
   "cell_type": "code",
   "execution_count": 8,
   "id": "c621ccaa",
   "metadata": {},
   "outputs": [
    {
     "data": {
      "image/png": "[encoded data removed]",
      "text/plain": [
       "<Figure size 1200x600 with 1 Axes>"
      ]
     },
     "metadata": {},
     "output_type": "display_data"
    },
    {
     "data": {
      "text/plain": [
       "(                 sharpe_ratio  max_drawdown  winning_rate  turnover\n",
       " Equal Weight         0.898575     -0.349827      0.547049  0.000000\n",
       " Trend Following    -24.697172     -1.985148      0.123444  7.098361,\n",
       "             Equal Weight  Trend Following\n",
       " Date                                     \n",
       " 2020-05-21     -0.007430              NaN\n",
       " 2020-05-22      0.004109              NaN\n",
       " 2020-05-26     -0.004244              NaN\n",
       " 2020-05-27      0.002097              NaN\n",
       " 2020-05-28     -0.000834              NaN\n",
       " ...                  ...              ...\n",
       " 2025-05-12      0.039813         0.023001\n",
       " 2025-05-13      0.006031        -1.993969\n",
       " 2025-05-14      0.014146        -1.985854\n",
       " 2025-05-15     -0.004059        -2.004059\n",
       " 2025-05-16      0.004630        -1.995370\n",
       " \n",
       " [1254 rows x 2 columns],\n",
       "             Equal Weight  Trend Following\n",
       " Date                                     \n",
       " 2020-05-21      0.992570              NaN\n",
       " 2020-05-22      0.996649              NaN\n",
       " 2020-05-26      0.992419              NaN\n",
       " 2020-05-27      0.994501              NaN\n",
       " 2020-05-28      0.993671              NaN\n",
       " ...                  ...              ...\n",
       " 2025-05-12      2.622790              0.0\n",
       " 2025-05-13      2.638609             -0.0\n",
       " 2025-05-14      2.675935              0.0\n",
       " 2025-05-15      2.665072             -0.0\n",
       " 2025-05-16      2.677412              0.0\n",
       " \n",
       " [1254 rows x 2 columns])"
      ]
     },
     "execution_count": 8,
     "metadata": {},
     "output_type": "execute_result"
    }
   ],
   "source": [
    "analysis.compare_strategies([equal_weight_strategy, trend_following_strategy])"
   ]
  },
  {
   "cell_type": "code",
   "execution_count": 9,
   "id": "2fc30421",
   "metadata": {},
   "outputs": [
    {
     "ename": "NameError",
     "evalue": "name 'qs' is not defined",
     "output_type": "error",
     "traceback": [
      "\u001b[31m---------------------------------------------------------------------------\u001b[39m",
      "\u001b[31mNameError\u001b[39m                                 Traceback (most recent call last)",
      "\u001b[36mCell\u001b[39m\u001b[36m \u001b[39m\u001b[32mIn[9]\u001b[39m\u001b[32m, line 1\u001b[39m\n\u001b[32m----> \u001b[39m\u001b[32m1\u001b[39m \u001b[43mqs\u001b[49m.stats.sharpe((equal_weight_strategy.weight.shift() * equal_weight_strategy.rtn_data).sum(axis=\u001b[32m1\u001b[39m).iloc[\u001b[32m1\u001b[39m:])\n",
      "\u001b[31mNameError\u001b[39m: name 'qs' is not defined"
     ]
    }
   ],
   "source": [
    "qs.stats.sharpe((equal_weight_strategy.weight.shift() * equal_weight_strategy.rtn_data).sum(axis=1).iloc[1:])"
   ]
  },
  {
   "cell_type": "code",
   "execution_count": null,
   "id": "2d89a76b",
   "metadata": {},
   "outputs": [
    {
     "data": {
      "text/plain": [
       "np.float64(0.9127510516867792)"
      ]
     },
     "execution_count": 15,
     "metadata": {},
     "output_type": "execute_result"
    }
   ],
   "source": [
    "import quantstats as qs\n",
    "qs.stats.sharpe(equal_weight_strategy.rtn)"
   ]
  },
  {
   "cell_type": "code",
   "execution_count": null,
   "id": "b49b935b",
   "metadata": {},
   "outputs": [],
   "source": []
  }
 ],
 "metadata": {
  "kernelspec": {
   "display_name": "Python 3",
   "language": "python",
   "name": "python3"
  },
  "language_info": {
   "codemirror_mode": {
    "name": "ipython",
    "version": 3
   },
   "file_extension": ".py",
   "mimetype": "text/x-python",
   "name": "python",
   "nbconvert_exporter": "python",
   "pygments_lexer": "ipython3",
   "version": "3.12.10"
  }
 },
 "nbformat": 4,
 "nbformat_minor": 5
}
