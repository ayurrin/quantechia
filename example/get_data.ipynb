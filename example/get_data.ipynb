{
 "cells": [
  {
   "cell_type": "code",
   "execution_count": 2,
   "metadata": {},
   "outputs": [
    {
     "name": "stderr",
     "output_type": "stream",
     "text": [
      "Python-dotenv could not parse statement starting at line 6\n",
      "Python-dotenv could not parse statement starting at line 7\n"
     ]
    },
    {
     "data": {
      "text/plain": [
       "True"
      ]
     },
     "execution_count": 2,
     "metadata": {},
     "output_type": "execute_result"
    }
   ],
   "source": [
    "import sys\n",
    "import os\n",
    "from dotenv import load_dotenv\n",
    "\n",
    "# プロジェクトルートのパスを追加（quantechiaがあるディレクトリ）\n",
    "sys.path.append(os.path.abspath(os.path.join(os.getcwd(), \"..\")))\n",
    "load_dotenv()"
   ]
  },
  {
   "cell_type": "code",
   "execution_count": 4,
   "metadata": {},
   "outputs": [
    {
     "name": "stdout",
     "output_type": "stream",
     "text": [
      "https://www.alphavantage.co/query?function=SYMBOL_SEARCH&keywords=tesco&apikey=514X3CVFQ8907PW5\n"
     ]
    },
    {
     "data": {
      "text/html": [
       "<div>\n",
       "<style scoped>\n",
       "    .dataframe tbody tr th:only-of-type {\n",
       "        vertical-align: middle;\n",
       "    }\n",
       "\n",
       "    .dataframe tbody tr th {\n",
       "        vertical-align: top;\n",
       "    }\n",
       "\n",
       "    .dataframe thead th {\n",
       "        text-align: right;\n",
       "    }\n",
       "</style>\n",
       "<table border=\"1\" class=\"dataframe\">\n",
       "  <thead>\n",
       "    <tr style=\"text-align: right;\">\n",
       "      <th></th>\n",
       "      <th>1. symbol</th>\n",
       "      <th>2. name</th>\n",
       "      <th>3. type</th>\n",
       "      <th>4. region</th>\n",
       "      <th>5. marketOpen</th>\n",
       "      <th>6. marketClose</th>\n",
       "      <th>7. timezone</th>\n",
       "      <th>8. currency</th>\n",
       "      <th>9. matchScore</th>\n",
       "    </tr>\n",
       "  </thead>\n",
       "  <tbody>\n",
       "    <tr>\n",
       "      <th>0</th>\n",
       "      <td>TSCO.LON</td>\n",
       "      <td>Tesco PLC</td>\n",
       "      <td>Equity</td>\n",
       "      <td>United Kingdom</td>\n",
       "      <td>08:00</td>\n",
       "      <td>16:30</td>\n",
       "      <td>UTC+01</td>\n",
       "      <td>GBX</td>\n",
       "      <td>0.7273</td>\n",
       "    </tr>\n",
       "    <tr>\n",
       "      <th>1</th>\n",
       "      <td>TSCDF</td>\n",
       "      <td>Tesco plc</td>\n",
       "      <td>Equity</td>\n",
       "      <td>United States</td>\n",
       "      <td>09:30</td>\n",
       "      <td>16:00</td>\n",
       "      <td>UTC-04</td>\n",
       "      <td>USD</td>\n",
       "      <td>0.7143</td>\n",
       "    </tr>\n",
       "    <tr>\n",
       "      <th>2</th>\n",
       "      <td>TSCDY</td>\n",
       "      <td>Tesco plc</td>\n",
       "      <td>Equity</td>\n",
       "      <td>United States</td>\n",
       "      <td>09:30</td>\n",
       "      <td>16:00</td>\n",
       "      <td>UTC-04</td>\n",
       "      <td>USD</td>\n",
       "      <td>0.7143</td>\n",
       "    </tr>\n",
       "    <tr>\n",
       "      <th>3</th>\n",
       "      <td>TCO2.FRK</td>\n",
       "      <td>TESCO PLC ADR/1 LS-05</td>\n",
       "      <td>Equity</td>\n",
       "      <td>Frankfurt</td>\n",
       "      <td>08:00</td>\n",
       "      <td>20:00</td>\n",
       "      <td>UTC+02</td>\n",
       "      <td>EUR</td>\n",
       "      <td>0.5455</td>\n",
       "    </tr>\n",
       "    <tr>\n",
       "      <th>4</th>\n",
       "      <td>TCO0.FRK</td>\n",
       "      <td>TESCO PLC LS-0633333</td>\n",
       "      <td>Equity</td>\n",
       "      <td>Frankfurt</td>\n",
       "      <td>08:00</td>\n",
       "      <td>20:00</td>\n",
       "      <td>UTC+02</td>\n",
       "      <td>EUR</td>\n",
       "      <td>0.5455</td>\n",
       "    </tr>\n",
       "  </tbody>\n",
       "</table>\n",
       "</div>"
      ],
      "text/plain": [
       "  1. symbol                2. name 3. type       4. region 5. marketOpen  \\\n",
       "0  TSCO.LON              Tesco PLC  Equity  United Kingdom         08:00   \n",
       "1     TSCDF              Tesco plc  Equity   United States         09:30   \n",
       "2     TSCDY              Tesco plc  Equity   United States         09:30   \n",
       "3  TCO2.FRK  TESCO PLC ADR/1 LS-05  Equity       Frankfurt         08:00   \n",
       "4  TCO0.FRK   TESCO PLC LS-0633333  Equity       Frankfurt         08:00   \n",
       "\n",
       "  6. marketClose 7. timezone 8. currency 9. matchScore  \n",
       "0          16:30      UTC+01         GBX        0.7273  \n",
       "1          16:00      UTC-04         USD        0.7143  \n",
       "2          16:00      UTC-04         USD        0.7143  \n",
       "3          20:00      UTC+02         EUR        0.5455  \n",
       "4          20:00      UTC+02         EUR        0.5455  "
      ]
     },
     "execution_count": 4,
     "metadata": {},
     "output_type": "execute_result"
    }
   ],
   "source": [
    "\n",
    "from data.alpha_vantage import get_data  # get_data をインポート\n",
    "\n",
    "api_key = os.getenv('ALPHAVANTAGE_API_KEY')\n",
    "function = \"SYMBOL_SEARCH\"\n",
    "params = {\"keywords\": \"tesco\"}\n",
    "\n",
    "df = get_data(function, api_key, params)\n",
    "df\n"
   ]
  },
  {
   "cell_type": "code",
   "execution_count": null,
   "metadata": {},
   "outputs": [
    {
     "name": "stdout",
     "output_type": "stream",
     "text": [
      "Download of ZIP file S100QWSI.zip is complete.\n",
      "Extracted ZIP file S100QWSI.zip.\n"
     ]
    }
   ],
   "source": [
    "#EDINET\n",
    "from data import edinet\n",
    "import importlib\n",
    "importlib.reload(edinet)\n",
    "from data.edinet import *\n",
    "import datetime\n",
    "api_key = os.getenv('EDINET_API')\n",
    "\n",
    "# APIクライアントの作成\n",
    "api_client = EdinetAPIClient(api_key)\n",
    "\n",
    "# 企業情報の取得\n",
    "doc_id_list_retriever = DocIdListRetriever(api_client)\n",
    "start_date = datetime.date(2023, 6, 21)\n",
    "end_date = datetime.date(2023, 6, 23)\n",
    "day_list = doc_id_list_retriever.make_day_list(start_date, end_date)\n",
    "doc_df = doc_id_list_retriever.make_doc_id_list(day_list)\n",
    "\n",
    "doc_id = doc_df.iloc[0,:]['docID']\n",
    "# ZIPファイルのダウンロード\n",
    "zip_file_downloader = ZipFileDownloader(api_client)\n",
    "zip_file_downloader.download_zip_file(doc_id)\n",
    "\n",
    "# Initialize the DataParser with the extraction directory\n",
    "data_parser = DataParser(extract_dir=doc_id+'/XBRL/PublicDoc/')\n",
    "data_parser.get_xbrl_files()\n",
    "xbrl_p = XBRLParser(data_parser.get_xbrl_files()[0])\n",
    "fact_df = xbrl_p.get_fact_list(lang='ja')\n",
    "fact_table = xbrl_p.get_fact_table(lang='ja')\n",
    "df_raw = xbrl_p.parse_xbrl_data(pivot=False)\n",
    "df = xbrl_p.parse_xbrl_data()\n",
    "df_std = xbrl_p.get_standard_data()\n",
    "\n",
    "del_files(doc_id)\n"
   ]
  },
  {
   "cell_type": "code",
   "execution_count": null,
   "metadata": {},
   "outputs": [],
   "source": []
  },
  {
   "cell_type": "code",
   "execution_count": null,
   "metadata": {},
   "outputs": [],
   "source": []
  }
 ],
 "metadata": {
  "kernelspec": {
   "display_name": "Python 3",
   "language": "python",
   "name": "python3"
  },
  "language_info": {
   "codemirror_mode": {
    "name": "ipython",
    "version": 3
   },
   "file_extension": ".py",
   "mimetype": "text/x-python",
   "name": "python",
   "nbconvert_exporter": "python",
   "pygments_lexer": "ipython3",
   "version": "3.12.6"
  }
 },
 "nbformat": 4,
 "nbformat_minor": 2
}
